{
 "cells": [
  {
   "cell_type": "code",
   "execution_count": 1,
   "metadata": {},
   "outputs": [],
   "source": [
    "# magics: ensures that any changes to the modules loaded below will be re-loaded automatically\n",
    "%load_ext autoreload\n",
    "%autoreload 2\n",
    "\n",
    "%load_ext line_profiler\n",
    "\n",
    "# load general packages\n",
    "import numpy as np\n",
    "\n",
    "# load modules related to this exercise\n",
    "from  matplotlib.pyplot import spy\n",
    "from model_zucher import zurcher\n",
    "import Estimate_MPEC_exante as estimate_MPEC\n",
    "\n",
    "from Solve_NFXP import solve_NFXP\n",
    "import estimate_NFXP as estimate_NFXP"
   ]
  },
  {
   "cell_type": "markdown",
   "metadata": {},
   "source": [
    "# Exercise set 4\n"
   ]
  },
  {
   "cell_type": "code",
   "execution_count": 2,
   "metadata": {},
   "outputs": [],
   "source": [
    "# setup\n",
    "model = zurcher()\n",
    "solver = solve_NFXP()\n",
    "\n",
    "\n",
    "#  SIMULATE DATA\n",
    "N = 500\n",
    "T = 120\n",
    "ev, pk = solver.poly(model.bellman, beta=model.beta, output=2)\n",
    "data = zurcher.sim_data(model,N,T,pk) \n",
    "samplesize = data.shape[0]\n"
   ]
  },
  {
   "cell_type": "markdown",
   "metadata": {},
   "source": [
    "#### 1. Run the function mpec.sparsity_pattern.\n",
    "The function mpec.sparsity_pattern creates sparse matrices of indicators for where there are elements in the Jacobian of the constraints and Hessian of the likelihood function\n",
    "\n",
    "(a) Look at the figures, and talk about what the different elements of the Jacobian of the constraint and Hessian of the likelihood represent."
   ]
  },
  {
   "cell_type": "code",
   "execution_count": 4,
   "metadata": {},
   "outputs": [
    {
     "name": "stderr",
     "output_type": "stream",
     "text": [
      "[autoreload of Estimate_MPEC_exante failed: Traceback (most recent call last):\n",
      "  File \"/Users/frederikp/opt/anaconda3/lib/python3.8/site-packages/IPython/extensions/autoreload.py\", line 245, in check\n",
      "    superreload(m, reload, self.old_objects)\n",
      "  File \"/Users/frederikp/opt/anaconda3/lib/python3.8/site-packages/IPython/extensions/autoreload.py\", line 394, in superreload\n",
      "    module = reload(module)\n",
      "  File \"/Users/frederikp/opt/anaconda3/lib/python3.8/imp.py\", line 314, in reload\n",
      "    return importlib.reload(module)\n",
      "  File \"/Users/frederikp/opt/anaconda3/lib/python3.8/importlib/__init__.py\", line 169, in reload\n",
      "    _bootstrap._exec(spec, module)\n",
      "  File \"<frozen importlib._bootstrap>\", line 604, in _exec\n",
      "  File \"<frozen importlib._bootstrap_external>\", line 839, in exec_module\n",
      "  File \"<frozen importlib._bootstrap_external>\", line 976, in get_code\n",
      "  File \"<frozen importlib._bootstrap_external>\", line 906, in source_to_code\n",
      "  File \"<frozen importlib._bootstrap>\", line 219, in _call_with_frames_removed\n",
      "  File \"/Users/frederikp/OneDrive - University of Copenhagen/Kandidat/Dynamic Programming/dp_ucph/2_dynamic_discrete_choice/exercises/ex_ante/02_MPEC/Estimate_MPEC_exante.py\", line 95\n",
      "    lik_pr = p[x]\n",
      "                ^\n",
      "IndentationError: unindent does not match any outer indentation level\n",
      "]\n"
     ]
    },
    {
     "data": {
      "image/png": "[encoded data removed]",
      "text/plain": [
       "<Figure size 1440x360 with 2 Axes>"
      ]
     },
     "metadata": {
      "needs_background": "light"
     },
     "output_type": "display_data"
    }
   ],
   "source": [
    "# Number of parameter to be estimated\n",
    "Nc = 2\n",
    "\n",
    "import matplotlib.pyplot as plt\n",
    "\n",
    "J_pattern, H_pattern = estimate_MPEC.sparsity_pattern(Nc,model.n, len(model.p)+1)\n",
    "\n",
    "# Figure\n",
    "fig = plt.figure(figsize=(20,5))# figsize is in inches...\n",
    "\n",
    "ax = fig.add_subplot(1,2,1)\n",
    "ax.spy(J_pattern,markersize=5)\n",
    "ax.set_title(f'Jacobian of constraints')\n",
    "ax = fig.add_subplot(1,2,2)\n",
    "ax.spy(H_pattern,markersize=5)\n",
    "ax.set_title(f'Hessian of likelihood')\n",
    "plt.show()"
   ]
  },
  {
   "cell_type": "markdown",
   "metadata": {},
   "source": [
    "#### 2. What is the advantages of handle that the Jacobian and Hessian as sparse matrices?"
   ]
  },
  {
   "cell_type": "markdown",
   "metadata": {},
   "source": [
    "#### 3. Estimate the model using MPEC. In order to estimate the model, you should understand:\n",
    "<il type =\"a\">\n",
    "<li> Estimate_MPEC.estimate </li>\n",
    "<li> Estimate_MPEC.ll (don't spend too much time on understanding the gradient)</li>\n",
    "<li> Estimate_MPEC.con_bellman (don't focus too much on computing Jacobian) </li>\n",
    "</il>\n",
    "\n",
    "Note that we in the implemenation don't use the information that the Hessian is sparse."
   ]
  },
  {
   "cell_type": "markdown",
   "metadata": {},
   "source": [
    "#### 4. Fill in the missing stuff in mpec.ll and mpec.con_bellman, and run the code to check that your results are correct"
   ]
  },
  {
   "cell_type": "code",
   "execution_count": 9,
   "metadata": {},
   "outputs": [
    {
     "name": "stdout",
     "output_type": "stream",
     "text": [
      "Structual estimation using busdata from Rust(1987)\n",
      "Beta        = 0.9999\n",
      "n           = 175\n",
      "Sample size = 60000\n",
      " \n",
      "\n",
      "Parameters     Estimates    s.e. \n",
      "RC             4.0557     \n",
      "c              0.7062      \n",
      " \n",
      "Log-likelihood -4996.9764\n",
      "runtime (seconds) 44.3104\n",
      "`xtol` termination condition is satisfied.\n"
     ]
    }
   ],
   "source": [
    "import time\n",
    "\n",
    "theta0 = [11,2]\n",
    "\n",
    "t0 = time.time()\n",
    "res_MPEC, pnames, theta_hat_MPEC = estimate_MPEC.estimate(model,data,theta0=theta0, twostep=1)\n",
    "t1 = time.time()\n",
    "time_MPEC=t1-t0\n",
    "\n",
    "\n",
    "# Print the results\n",
    "print(f'Structual estimation using busdata from Rust(1987)')\n",
    "print(f'Beta        = {model.beta:.4f}')\n",
    "print(f'n           = {model.n}')\n",
    "print(f'Sample size = {data.shape[0]}\\n \\n') \n",
    "\n",
    "print(f'Parameters     Estimates    s.e. ') \n",
    "print(f'{pnames[0]}             {theta_hat_MPEC[0]:.4f}     ')\n",
    "print(f'{pnames[1]}              {theta_hat_MPEC[1]:.4f}      \\n ')\n",
    "\n",
    "\n",
    "print(f'Log-likelihood {-res_MPEC.fun*samplesize:.4f}')  \n",
    "print(f'runtime (seconds) {time_MPEC:.4f}')\n",
    "print(res_MPEC.message)"
   ]
  },
  {
   "cell_type": "code",
   "execution_count": 10,
   "metadata": {},
   "outputs": [
    {
     "name": "stdout",
     "output_type": "stream",
     "text": [
      "Timer unit: 1e-06 s\n",
      "\n",
      "Total time: 50.7656 s\n",
      "File: /Users/frederikp/OneDrive - University of Copenhagen/Kandidat/Dynamic Programming/dp_ucph/2_dynamic_discrete_choice/exercises/ex_ante/02_MPEC/Estimate_MPEC_exante.py\n",
      "Function: estimate at line 24\n",
      "\n",
      "Line #      Hits         Time  Per Hit   % Time  Line Contents\n",
      "==============================================================\n",
      "    24                                           def estimate(model, data, theta0 = [0,0],twostep=0):\n",
      "    25         1        146.0    146.0      0.0      assert(twostep == 1),'MPEC only implemented for twostep=1'\n",
      "    26                                           \n",
      "    27                                           \n",
      "    28                                               # Setup\n",
      "    29         1        109.0    109.0      0.0      pnames = ['RC','c']\n",
      "    30                                           \n",
      "    31         1         67.0     67.0      0.0      class data_class: pass\n",
      "    32         1      38893.0  38893.0      0.1      data_class.xd = np.nan+np.zeros((model.n,data.d.size,))\n",
      "    33       176        251.0      1.4      0.0      for i in range(model.n):\n",
      "    34       175      42300.0    241.7      0.1          data_class.xd[i,:] = data.x == i+1\n",
      "    35         1      20215.0  20215.0      0.0      data_class.xd = data_class.xd.astype(int)\n",
      "    36                                               \n",
      "    37         1         77.0     77.0      0.0      data_class.x = data.x \n",
      "    38         1        526.0    526.0      0.0      data_class.dk = (data.d == 0)\n",
      "    39         1        232.0    232.0      0.0      data_class.dr = (data.d == 1)\n",
      "    40                                           \n",
      "    41         1          2.0      2.0      0.0      data = data_class\n",
      "    42                                           \n",
      "    43                                               # Step 2: Estimate structual parameters \n",
      "    44         1          2.0      2.0      0.0      Nc = 2\n",
      "    45         1        768.0    768.0      0.0      J_pattern, _ = sparsity_pattern(Nc,model.n, len(model.p)+1)\n",
      "    46                                           \n",
      "    47                                               # bounds\n",
      "    48         1          3.0      3.0      0.0      lb = np.zeros((2+model.n))\n",
      "    49         1          2.0      2.0      0.0      ub = np.zeros((2+model.n))\n",
      "    50                                           \n",
      "    51                                               #bound on c and RC\n",
      "    52         1          1.0      1.0      0.0      lb[0] = 0\n",
      "    53         1          2.0      2.0      0.0      ub[0] = np.inf\n",
      "    54         1          2.0      2.0      0.0      lb[1] = 0\n",
      "    55         1          2.0      2.0      0.0      ub[1] = np.inf\n",
      "    56                                             \n",
      "    57                                           \n",
      "    58                                               # bounds on EV\n",
      "    59         1          3.0      3.0      0.0      lb[-(model.n):] = -5000\n",
      "    60         1          2.0      2.0      0.0      ub[-(model.n):] = 0\n",
      "    61                                           \n",
      "    62                                               # Define the objective functions and constraints\n",
      "    63         1          2.0      2.0      0.0      con_bell = lambda theta: con_bellman(theta,model,data, pnames) # Define constratint\n",
      "    64         1          1.0      1.0      0.0      con_Jac = lambda theta: constraint_jac(theta,model,data, pnames)\n",
      "    65         1         14.0     14.0      0.0      con_p_bellman = optimize.NonlinearConstraint(con_bell,0,0, jac = con_Jac, finite_diff_jac_sparsity = J_pattern) \n",
      "    66                                           \n",
      "    67         1         73.0     73.0      0.0      theta0 = np.append(theta0,-np.ones((model.n)))  \n",
      "    68         1   50661865.0 50661865.0     99.8      res = optimize.minimize(ll,theta0, args=(model,data, pnames), method='trust-constr', jac=True, hess = '2-point', constraints =con_p_bellman, bounds = optimize.Bounds(lb, ub),options={'initial_constr_penalty': 1, 'xtol': 1e-10,'gtol': 1e-10, 'sparse_jacobian': True}) \n",
      "    69                                            \n",
      "    70         1          3.0      3.0      0.0      theta_hat = res.x[0:2]\n",
      "    71                                           \n",
      "    72         1          2.0      2.0      0.0      return res, pnames, theta_hat\n",
      "\n",
      "Total time: 41.4384 s\n",
      "File: /Users/frederikp/OneDrive - University of Copenhagen/Kandidat/Dynamic Programming/dp_ucph/2_dynamic_discrete_choice/exercises/ex_ante/02_MPEC/Estimate_MPEC_exante.py\n",
      "Function: ll at line 75\n",
      "\n",
      "Line #      Hits         Time  Per Hit   % Time  Line Contents\n",
      "==============================================================\n",
      "    75                                           def ll(theta,model,data,pnames,out=1):\n",
      "    76                                               \n",
      "    77                                               # Unpack\n",
      "    78      3189       5109.0      1.6      0.0      x = data.x\n",
      "    79      3189       3429.0      1.1      0.0      xd = data.xd\n",
      "    80      3189       3333.0      1.0      0.0      dk = data.dk\n",
      "    81      3189       3024.0      0.9      0.0      dr = data.dr\n",
      "    82                                               \n",
      "    83                                               # Update values\n",
      "    84      3189       5282.0      1.7      0.0      model.RC = theta[0]\n",
      "    85      3189       3040.0      1.0      0.0      model.c = theta[1] \n",
      "    86      3189       4660.0      1.5      0.0      ev = theta[-model.n:] \n",
      "    87      3189    1376251.0    431.6      3.3      model.create_grid()\n",
      "    88                                           \n",
      "    89                                               # Value of options:\n",
      "    90      3189      20451.0      6.4      0.0      value_replace = model.beta*ev -model.cost - model.RC\n",
      "    91      3189       7791.0      2.4      0.0      value_keep = model.beta*ev -model.cost\n",
      "    92      3189      26122.0      8.2      0.1      p = np.exp(value_keep) / (np.exp(value_keep) + np.exp(value_replace))\n",
      "    93                                           \n",
      "    94                                               # Evaluate the likelihood function \n",
      "    95      3189     302182.0     94.8      0.7      lik_pr = p[x]\n",
      "    96                                               \n",
      "    97      3189       2866.0      0.9      0.0      if out == 2:\n",
      "    98                                                   return model, lik_pr\n",
      "    99                                           \n",
      "   100      3189    4006123.0   1256.2      9.7      log_lik = np.log(dk*lik_pr+(1-lik_pr)*dr)\n",
      "   101      3189     544008.0    170.6      1.3      f = -np.mean(log_lik)\n",
      "   102                                           \n",
      "   103                                               # GRADIENT    \n",
      "   104      3189     843359.0    264.5      2.0      res = np.array(lik_pr-dk)\n",
      "   105      3189       9379.0      2.9      0.0      g = np.zeros((2+model.n))\n",
      "   106      3189     139204.0     43.7      0.3      g[0] = - np.mean(res)    # RC\n",
      "   107      3189     473279.0    148.4      1.1      g[1] =  np.mean(res*(model.dc[x]-model.dc[0]))  #c\n",
      "   108      3189     313144.0     98.2      0.8      g[2] = - (model.beta * np.mean(res*(xd[0,:]-1)) ) # ev(0) xd[:,0]-1\n",
      "   109      3189       3032.0      1.0      0.0      NT = res.size\n",
      "   110      3189   33327257.0  10450.7     80.4      g[3:] = -model.beta*np.sum(np.multiply(xd[1:,:],res),1)/NT\n",
      "   111                                           \n",
      "   112      3189      16085.0      5.0      0.0      return f, -g\n",
      "\n",
      "Total time: 0.78559 s\n",
      "File: /Users/frederikp/OneDrive - University of Copenhagen/Kandidat/Dynamic Programming/dp_ucph/2_dynamic_discrete_choice/exercises/ex_ante/02_MPEC/Estimate_MPEC_exante.py\n",
      "Function: con_bellman at line 114\n",
      "\n",
      "Line #      Hits         Time  Per Hit   % Time  Line Contents\n",
      "==============================================================\n",
      "   114                                           def con_bellman(theta, model, data, pnames, out=1):\n",
      "   115                                           \n",
      "   116                                               # Update parameters\n",
      "   117      1536       3256.0      2.1      0.4      ev0 = theta[-model.n:]\n",
      "   118                                           \n",
      "   119      1536     778741.0    507.0     99.1      ev1, pk, dev = model.bellman(ev0=ev0,output=3)\n",
      "   120                                           \n",
      "   121                                           \n",
      "   122      1536       1831.0      1.2      0.2      if out ==2:\n",
      "   123       768        410.0      0.5      0.1          return pk, dev\n",
      "   124                                           \n",
      "   125       768       1352.0      1.8      0.2      return ev1-ev0\n",
      "\n",
      "Total time: 0.752 s\n",
      "File: /Users/frederikp/OneDrive - University of Copenhagen/Kandidat/Dynamic Programming/dp_ucph/2_dynamic_discrete_choice/exercises/ex_ante/02_MPEC/Estimate_MPEC_exante.py\n",
      "Function: constraint_jac at line 127\n",
      "\n",
      "Line #      Hits         Time  Per Hit   % Time  Line Contents\n",
      "==============================================================\n",
      "   127                                           def constraint_jac(theta, model, data, pnames):\n",
      "   128                                               \n",
      "   129       768     431076.0    561.3     57.3      pk,dev = con_bellman(theta, model, data, pnames, out=2)\n",
      "   130       768      13495.0     17.6      1.8      DCeq = np.zeros((model.n,2+model.n))\n",
      "   131       768     132961.0    173.1     17.7      DCeq[:,0] = - model.P1 @(1-pk) \n",
      "   132       768     117972.0    153.6     15.7      DCeq[:,1] = -model.P1@(pk*(model.dc-model.dc[0]))\n",
      "   133       768      56008.0     72.9      7.4      DCeq[:,-model.n:] = dev-np.identity(model.n)\n",
      "   134                                           \n",
      "   135       768        488.0      0.6      0.1      return DCeq"
     ]
    }
   ],
   "source": [
    "%lprun -f estimate_MPEC.ll  -f estimate_MPEC.estimate -f estimate_MPEC.con_bellman -f estimate_MPEC.constraint_jac estimate_MPEC.estimate(model,data,theta0=theta0, twostep=1)"
   ]
  },
  {
   "cell_type": "markdown",
   "metadata": {},
   "source": [
    "#### 5. Compare NFXP and MPEC:"
   ]
  },
  {
   "cell_type": "code",
   "execution_count": 11,
   "metadata": {},
   "outputs": [
    {
     "name": "stderr",
     "output_type": "stream",
     "text": [
      "/Users/frederikp/OneDrive - University of Copenhagen/Kandidat/Dynamic Programming/dp_ucph/2_dynamic_discrete_choice/exercises/ex_ante/02_MPEC/estimate_NFXP.py:121: FutureWarning: Support for multi-dimensional indexing (e.g. `obj[:, None]`) is deprecated and will be removed in a future version.  Convert to a numpy array before indexing instead.\n",
      "  score = ((d - (1- lik_pr))[:,None])   * ( np.vstack((-np.ones(N), dc[x-1], np.zeros((n_p,N)))).T + np.broadcast_to(dev_dtheta[0],(N,2+n_p)) - dev_dtheta[x-1] )\n"
     ]
    },
    {
     "name": "stdout",
     "output_type": "stream",
     "text": [
      "Structual estimation using busdata from Rust(1987) \n",
      "\n",
      "MPEC\n",
      "Parameters     Estimates    s.e. \n",
      "RC             4.0557     \n",
      "c              0.7062      \n",
      " \n",
      "Log-likelihood -4996.98\n",
      "runtime (seconds) 44.3104\n",
      " \n",
      "\n",
      "NFXP\n",
      "Parameters     Estimates    s.e. \n",
      "RC             11.6380     0.3165      \n",
      "c              2.4508      0.1030       \n",
      " \n",
      "Log-likelihood -3931.19\n",
      "runtime (seconds) 0.4575\n"
     ]
    }
   ],
   "source": [
    "# Solve by NFXP\n",
    "\n",
    "t0 = time.time()\n",
    "nfxp_model, nfxp_results, pnames, theta_hat_NFXP, Avar_NFXP, converged=estimate_NFXP.estimate(model, solver, data, theta0=theta0, twostep=1)\n",
    "t1 = time.time()\n",
    "time_NFXP=t1-t0\n",
    "\n",
    "\n",
    "#compare the results \n",
    "print(f'Structual estimation using busdata from Rust(1987) \\n')\n",
    "\n",
    "print(f'MPEC')\n",
    "print(f'Parameters     Estimates    s.e. ') \n",
    "print(f'{pnames[0]}             {theta_hat_MPEC[0]:.4f}     ')\n",
    "print(f'{pnames[1]}              {theta_hat_MPEC[1]:.4f}      \\n ')\n",
    "\n",
    "\n",
    "print(f'Log-likelihood {-res_MPEC.fun*samplesize:.2f}')\n",
    "print(f'runtime (seconds) {time_MPEC:.4f}\\n \\n')\n",
    "\n",
    "\n",
    "print(f'NFXP')\n",
    "print(f'Parameters     Estimates    s.e. ') \n",
    "print(f'{pnames[0]}             {theta_hat_NFXP[0]:.4f}     {np.sqrt(Avar_NFXP[0,0]):.4f}      ')\n",
    "print(f'{pnames[1]}              {theta_hat_NFXP[1]:.4f}      {np.sqrt(Avar_NFXP[1,1]):.4f}       \\n ')\n",
    "\n",
    "\n",
    "print(f'Log-likelihood {-nfxp_results.fun*samplesize:.2f}')\n",
    "print(f'runtime (seconds) {time_NFXP:.4f}')"
   ]
  },
  {
   "cell_type": "markdown",
   "metadata": {},
   "source": [
    "(a) Compare the time of NFXP and the time of MPEC, and the time of NFXP and MPEC from the lecture. According to what you saw at the lectures the two methods should be comparable with regards to speed."
   ]
  },
  {
   "cell_type": "code",
   "execution_count": 12,
   "metadata": {},
   "outputs": [
    {
     "name": "stdout",
     "output_type": "stream",
     "text": [
      "Beta        = 0.9999\n",
      "n           = 175\n",
      "387 ms ± 25.9 ms per loop (mean ± std. dev. of 7 runs, 1 loop each)\n",
      "42.2 s ± 158 ms per loop (mean ± std. dev. of 7 runs, 1 loop each)\n"
     ]
    }
   ],
   "source": [
    "print(f'Beta        = {model.beta:.4f}')\n",
    "print(f'n           = {model.n}')\n",
    "\n",
    "\n",
    "%timeit estimate_NFXP.estimate(model, solver, data, theta0=theta0, twostep=1)\n",
    "%timeit estimate_MPEC.estimate(model,data,theta0=theta0, twostep=1)"
   ]
  },
  {
   "cell_type": "markdown",
   "metadata": {},
   "source": [
    "(b) Do we use analytical first-order derivatives? \n",
    "\n",
    "(c) What about second-order derivatives? \n",
    "\n",
    "(d) What do they do in Su and Judd (2012)? \n",
    "\n",
    "(e) Why is our implementation inefficient?"
   ]
  },
  {
   "cell_type": "markdown",
   "metadata": {},
   "source": [
    "#### 5. How did we get our standard errors using NFXP? How would you calculate them using MPEC?"
   ]
  },
  {
   "cell_type": "code",
   "execution_count": null,
   "metadata": {},
   "outputs": [],
   "source": []
  }
 ],
 "metadata": {
  "kernelspec": {
   "display_name": "Python 3",
   "language": "python",
   "name": "python3"
  },
  "language_info": {
   "codemirror_mode": {
    "name": "ipython",
    "version": 3
   },
   "file_extension": ".py",
   "mimetype": "text/x-python",
   "name": "python",
   "nbconvert_exporter": "python",
   "pygments_lexer": "ipython3",
   "version": "3.8.12"
  }
 },
 "nbformat": 4,
 "nbformat_minor": 4
}
